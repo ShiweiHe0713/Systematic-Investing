{
  "nbformat": 4,
  "nbformat_minor": 0,
  "metadata": {
    "colab": {
      "provenance": []
    },
    "kernelspec": {
      "name": "python3",
      "display_name": "Python 3"
    },
    "language_info": {
      "name": "python"
    }
  },
  "cells": [
    {
      "cell_type": "code",
      "execution_count": 45,
      "metadata": {
        "colab": {
          "base_uri": "https://localhost:8080/"
        },
        "id": "w2qoIbpXcn46",
        "outputId": "03b30954-a8b0-4442-c9c8-01b22925db43"
      },
      "outputs": [
        {
          "output_type": "stream",
          "name": "stdout",
          "text": [
            "Drive already mounted at /content/drive; to attempt to forcibly remount, call drive.mount(\"/content/drive\", force_remount=True).\n"
          ]
        }
      ],
      "source": [
        "import pandas as pd\n",
        "import numpy as np\n",
        "import matplotlib.pyplot as plt\n",
        "from google.colab import drive\n",
        "drive.mount('/content/drive')"
      ]
    },
    {
      "cell_type": "code",
      "source": [
        "df = pd.read_excel('drive/MyDrive/School/3_Robo/HW1/VOL/assignment_VOL_data.xlsx')"
      ],
      "metadata": {
        "id": "LRdX07TtcyDj"
      },
      "execution_count": 12,
      "outputs": []
    },
    {
      "cell_type": "code",
      "source": [
        "df['daily % chg'] = df['Close'].pct_change()"
      ],
      "metadata": {
        "id": "jjKOBX0Skdu1"
      },
      "execution_count": 37,
      "outputs": []
    },
    {
      "cell_type": "code",
      "source": [
        "df['20day vol'] = df['daily % chg'].rolling(window=20).std()"
      ],
      "metadata": {
        "id": "KTN6Tldyk2Rs"
      },
      "execution_count": 38,
      "outputs": []
    },
    {
      "cell_type": "code",
      "source": [
        "df['previous 20d return'] = df['Close'].pct_change(periods=20)\n",
        "df['next 20 day return'] = df['Close'].shift(-20) / df['Close'] -1"
      ],
      "metadata": {
        "id": "dAG4sChqk9cA"
      },
      "execution_count": 31,
      "outputs": []
    },
    {
      "cell_type": "code",
      "source": [
        "window = 250\n",
        "df['zvol20'] = (df['20day vol'] - df['20day vol'].rolling(window=window).mean()) / df['20day vol'].rolling(window=window).std()\n",
        "df['zret20'] = (df['previous 20d return'] - df['previous 20d return'].rolling(window=window).mean()) / df['previous 20d return'].rolling(window=window).std()\n",
        "df['zfret20'] = (df['next 20 day return'] - df['next 20 day return'].rolling(window=window).mean()) / df['next 20 day return'].rolling(window=window).std()\n",
        "# print(df[['20day vol', 'previous 20d return', 'next 20 day return', 'zvol20', 'zret20', 'zfret20']].head(300))"
      ],
      "metadata": {
        "id": "Cqp-sw5SlPkw"
      },
      "execution_count": 52,
      "outputs": []
    },
    {
      "cell_type": "code",
      "source": [
        "for column in ['zvol20', 'zret20', 'zfret20']:\n",
        "    non_nan_count = df[column].notna().sum()\n",
        "    print(f\"{column} non-NaN count: {non_nan_count}\")\n"
      ],
      "metadata": {
        "colab": {
          "base_uri": "https://localhost:8080/"
        },
        "id": "O229P9cqnNgY",
        "outputId": "dbf10a5c-13a8-4467-b3b5-78d4300b2f6e"
      },
      "execution_count": 42,
      "outputs": [
        {
          "output_type": "stream",
          "name": "stdout",
          "text": [
            "zvol20 non-NaN count: 10054\n",
            "zret20 non-NaN count: 10054\n",
            "zfret20 non-NaN count: 10054\n"
          ]
        }
      ]
    },
    {
      "cell_type": "code",
      "source": [
        "df_clean = df.dropna(subset=['zvol20', 'zret20', 'zfret20'])\n",
        "# print(df_clean)\n"
      ],
      "metadata": {
        "id": "P_NEJfdUlRj5"
      },
      "execution_count": 53,
      "outputs": []
    },
    {
      "cell_type": "code",
      "source": [
        "# Check for sufficient non-NaN data before proceeding\n",
        "if df[['zvol20', 'zret20', 'zfret20']].notna().sum().min() > 0:\n",
        "    # Proceed with analysis if there are non-NaN values\n",
        "    df_clean = df.dropna(subset=['zvol20', 'zret20', 'zfret20'])\n",
        "\n",
        "    # Ensure df_clean is not empty\n",
        "    if not df_clean.empty:\n",
        "        # Step 6: Bucket zvol20 into Quintiles and handle data accordingly\n",
        "        df_clean['zvol20_quintile'] = pd.qcut(df_clean['zvol20'], 5, labels=False)\n",
        "\n",
        "        # Calculate averages for plotting\n",
        "        quintile_means_zret20 = df_clean.groupby('zvol20_quintile')['zret20'].mean()\n",
        "        quintile_means_zfret20 = df_clean.groupby('zvol20_quintile')['zfret20'].mean()\n",
        "\n",
        "        # Plotting\n",
        "        # zvol20 vs. zret20\n",
        "        quintile_means_zret20.plot()\n",
        "        plt.xlabel('Quintile of zvol20')\n",
        "        plt.ylabel('Average zret20')\n",
        "        plt.title('Relationship between zvol20 and zret20')\n",
        "        plt.show()\n",
        "\n",
        "        # zvol20 vs. zfret20\n",
        "        quintile_means_zfret20.plot()\n",
        "        plt.xlabel('Quintile of zvol20')\n",
        "        plt.ylabel('Average zfret20')\n",
        "        plt.title('Lead-Lag Relationship between zvol20 and zfret20')\n",
        "        plt.show()\n",
        "    else:\n",
        "        print(\"Dataframe 'df_clean' is empty after dropping NaN values.\")\n",
        "else:\n",
        "    print(\"Insufficient non-NaN data to proceed with analysis.\")"
      ],
      "metadata": {
        "id": "9DnlBd4Xt-6A"
      },
      "execution_count": null,
      "outputs": []
    },
    {
      "cell_type": "code",
      "source": [
        "df_sorted = df.sort_values(by='zvol20', ascending=True)\n",
        "df_sorted['group'] = pd.qcut(df_sorted['zvol20'], 5, labels=[1, 2, 3, 4, 5])\n",
        "# print(df_sorted['group'].value_counts())\n",
        "# Map the mean values of zvol20, zret20, and zfret20 back to the original DataFrame\n",
        "# df_sorted['mean_zvol20'] = df_sorted['group'].map(group_averages['zvol20'])\n",
        "# df_sorted['mean_zret20'] = df_sorted['group'].map(group_averages['zret20'])\n",
        "# df_sorted['mean_zfret20'] = df_sorted['group'].map(group_averages['zfret20'])\n",
        "# print(df_sorted[['group', 'mean_zvol20', 'mean_zret20', 'mean_zfret20']].head())"
      ],
      "metadata": {
        "id": "9MepGP3pwIFm"
      },
      "execution_count": 60,
      "outputs": []
    },
    {
      "cell_type": "code",
      "source": [
        "group_averages = df_sorted.groupby('group').agg({'zvol20': 'mean', 'zret20': 'mean', 'zfret20': 'mean'})\n",
        "# print(group_averages)"
      ],
      "metadata": {
        "id": "bnXdOgih5Vm5"
      },
      "execution_count": 61,
      "outputs": []
    },
    {
      "cell_type": "code",
      "source": [
        "df_sorted.to_excel('drive/MyDrive/School/3_Robo/HW1/VOL/modified_data.xlsx',index=False)"
      ],
      "metadata": {
        "id": "-D7E5rTR3ght"
      },
      "execution_count": 62,
      "outputs": []
    }
  ]
}