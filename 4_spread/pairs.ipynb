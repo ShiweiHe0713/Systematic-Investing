{
 "cells": [
  {
   "cell_type": "code",
   "execution_count": 45,
   "metadata": {},
   "outputs": [],
   "source": [
    "import os\n",
    "import openpyxl\n",
    "import numpy as np\n",
    "import pandas as pd\n",
    "import matplotlib as plt"
   ]
  },
  {
   "cell_type": "markdown",
   "metadata": {},
   "source": [
    "**Basic info** <br>\n",
    " <br>\n",
    "After printing the info of the dataframe, we can know the dimension is [3645 rows x 56 columns], which tells us there are 3645 trades, spanning from 2000-01-03 to 2014-06-30."
   ]
  },
  {
   "cell_type": "code",
   "execution_count": 39,
   "metadata": {},
   "outputs": [],
   "source": [
    "# Read in the excel as a dataframe\n",
    "data = pd.read_excel(\"Assignment_PAIRS_data.xlsx\", sheet_name='data', header=6)"
   ]
  },
  {
   "cell_type": "markdown",
   "metadata": {},
   "source": [
    "### Calculate Returns\n",
    "Now we are going to calculate the **returns** for both White and Black."
   ]
  },
  {
   "cell_type": "code",
   "execution_count": 51,
   "metadata": {},
   "outputs": [
    {
     "name": "stdout",
     "output_type": "stream",
     "text": [
      "0            NaN\n",
      "1            NaN\n",
      "2            NaN\n",
      "3            NaN\n",
      "4            NaN\n",
      "          ...   \n",
      "3640   -0.004185\n",
      "3641    0.009114\n",
      "3642    0.015937\n",
      "3643    0.018007\n",
      "3644    0.020445\n",
      "Name: ret10WHITE, Length: 3645, dtype: float64\n"
     ]
    }
   ],
   "source": [
    "def calculate_returns(df, strat, period):\n",
    "    ret = (df[f\"close{strat}\"] - df[f\"close{strat}\"].shift(period)) / df[f\"close{strat}\"].shift(period)\n",
    "    return ret\n",
    "\n",
    "data[\"ret1WHITE\"] = calculate_returns(data, \"WHITE\", 1)\n",
    "data[\"ret5WHITE\"] = calculate_returns(data, \"WHITE\", 5)\n",
    "data[\"ret10WHITE\"] = calculate_returns(data, \"WHITE\", 10)\n",
    "data[\"ret20WHITE\"] = calculate_returns(data, \"WHITE\", 20)\n",
    "\n",
    "data[\"ret1BLACK\"] = calculate_returns(data, \"BLACK\", 1)\n",
    "data[\"ret5BLACK\"] = calculate_returns(data, \"BLACK\", 5)\n",
    "data[\"ret10BLACK\"] = calculate_returns(data, \"BLACK\", 10)\n",
    "data[\"ret20BLACK\"] = calculate_returns(data, \"BLACK\", 20)\n",
    "\n",
    "print(data[\"ret10WHITE\"])"
   ]
  },
  {
   "cell_type": "markdown",
   "metadata": {},
   "source": [
    "### Calculate volatility"
   ]
  },
  {
   "cell_type": "code",
   "execution_count": 52,
   "metadata": {},
   "outputs": [
    {
     "data": {
      "text/plain": [
       "0       0.007105\n",
       "1       0.007105\n",
       "2       0.007105\n",
       "3       0.007105\n",
       "4       0.007105\n",
       "          ...   \n",
       "3640    0.007105\n",
       "3641    0.007105\n",
       "3642    0.007105\n",
       "3643    0.007105\n",
       "3644    0.007105\n",
       "Name: vol20WHITE, Length: 3645, dtype: float64"
      ]
     },
     "execution_count": 52,
     "metadata": {},
     "output_type": "execute_result"
    }
   ],
   "source": [
    "daily_returns_white = data[\"closeWHITE\"].pct_change().dropna()\n",
    "data[\"vol20WHITE\"] = daily_returns_white[-20:].std()\n",
    "\n",
    "data[\"vol20WHITE\"]"
   ]
  },
  {
   "cell_type": "markdown",
   "metadata": {},
   "source": [
    "### Calculate Z-scores"
   ]
  },
  {
   "cell_type": "code",
   "execution_count": 42,
   "metadata": {},
   "outputs": [
    {
     "name": "stdout",
     "output_type": "stream",
     "text": [
      "0      -0.069411\n",
      "1      -0.069411\n",
      "2      -0.069411\n",
      "3      -0.069411\n",
      "4      -0.069411\n",
      "          ...   \n",
      "3640    0.609055\n",
      "3641    0.812387\n",
      "3642    0.944424\n",
      "3643    1.078076\n",
      "3644    0.994780\n",
      "Name: zBLACK10, Length: 3645, dtype: float64\n"
     ]
    }
   ],
   "source": [
    "def calculate_z(df, strat, period):\n",
    "    # df['last_value'] = df['your_column_name'].shift(1)\n",
    "    zret = (df[f\"ret{period}{strat}\"] - df[f\"ret{period}{strat}\"].mean()) / df[f\"ret{period}{strat}\"].std()\n",
    "    return zret\n",
    "\n",
    "periods = [5,10,20]\n",
    "for i in periods:\n",
    "    data[f\"zWHITE{i}\"] = calculate_z(data, \"WHITE\", i)\n",
    "\n",
    "for i in periods:\n",
    "    data[f\"zBLACK{i}\"] = calculate_z(data, \"BLACK\", i)\n",
    "\n",
    "print(data[\"zBLACK10\"])"
   ]
  },
  {
   "cell_type": "markdown",
   "metadata": {},
   "source": [
    "### Calculate zdiff"
   ]
  },
  {
   "cell_type": "code",
   "execution_count": 44,
   "metadata": {},
   "outputs": [],
   "source": [
    "data[\"zdiff5\"] = data[\"zWHITE5\"] - data[\"zBLACK5\"]\n",
    "data[\"zdiff10\"] = data[\"zWHITE10\"] - data[\"zBLACK10\"]\n",
    "data[\"zdiff10\"] = data[\"zWHITE10\"] - data[\"zBLACK10\"]\n"
   ]
  }
 ],
 "metadata": {
  "kernelspec": {
   "display_name": "Python 3",
   "language": "python",
   "name": "python3"
  },
  "language_info": {
   "codemirror_mode": {
    "name": "ipython",
    "version": 3
   },
   "file_extension": ".py",
   "mimetype": "text/x-python",
   "name": "python",
   "nbconvert_exporter": "python",
   "pygments_lexer": "ipython3",
   "version": "3.8.6"
  }
 },
 "nbformat": 4,
 "nbformat_minor": 2
}
